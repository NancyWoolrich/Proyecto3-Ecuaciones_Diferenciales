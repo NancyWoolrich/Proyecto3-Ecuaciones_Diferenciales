{
 "cells": [
  {
   "cell_type": "markdown",
   "id": "ea9f5813",
   "metadata": {},
   "source": [
    "# <center>Instituto Tecnológico de Estudios Superiores de Occidente</center>\n",
    "\n",
    "\n",
    "\n",
    "<img style=\"float: center\" src=\"logo-ITESO-png.png\" width=\"350px\" height=\"125px\"/>\n",
    "\n",
    "\n",
    "\n",
    "\n",
    "#### <center>\"Simulación Matemática\"</center>\n",
    "\n",
    "\n",
    "### <center>SIMULACIÓN DE CRECIMIENTO BACTERIANO</center>\n",
    "\n",
    ".\n",
    "\n",
    "\n",
    "\n",
    "**<center>Profesor: Gabriel Alejando Morales Ruiz</center>**\n",
    "\n",
    ".\n",
    "\n",
    "\n",
    "\n",
    "**<center>Leonardo Rodríguez Hernández - 741983</center>**\n",
    "\n",
    "\n",
    "\n",
    "**<center>Valenzuela Lafarga Mariana - 749770</center>**\n",
    "\n",
    "\n",
    "\n",
    "**<center>Nancy Woolrich Sorroza - 741983</center>**\n",
    "\n",
    "\n",
    "\n",
    ".\n",
    "\n",
    "\n",
    "**<center>09 de mayo 2024.</center>**"
   ]
  },
  {
   "cell_type": "markdown",
   "id": "672d96d9",
   "metadata": {},
   "source": [
    "## <center> Simulación de crecimiento bacteriano</center>\n",
    "\n",
    "### Introducción\n",
    "    \n",
    "  \n",
    "    \n",
    "\n",
    "### Objetivos\n",
    "\n",
    "#### 1.1 Objetivo general.\n",
    "\n",
    "Desarrollar un modelo matemático que represente el crecimiento bacteriano en un entorno específico.\n",
    "\n",
    "#### 1.2 Objetivos específicos\n",
    "- Implementar el modelo en Python para simular el crecimiento de bacterias bajo diversas condiciones.\n",
    "\n",
    "- Analizar cómo factores como la tasa de reproducción, la capacidad de carga del entorno y la presencia de antibióticos afectan el crecimiento bacteriano.\n",
    "\n",
    "- Visualizar los resultados de la simulación para comprender mejor la dinámica del crecimiento bacteriano.\n"
   ]
  },
  {
   "cell_type": "markdown",
   "id": "af8bb35a",
   "metadata": {},
   "source": [
    "### Modelo del problema.\n",
    "\n",
    "Para simular el crecimiento bacteriano, se puede usar el modelo de crecimiento logístico, que es comúnmente utilizado en epidemiología y ecología para describir el crecimiento de una población en un entorno limitado. El modelo de crecimiento logístico se define por la siguiente ecuación diferencial:\n",
    "\n",
    "$$\\frac{dN}{dt}= rN(1- \\frac {N}{K})$$\n",
    "\n",
    "Donde:\n",
    "\n",
    "N es la población de bacterias en un momento dado.\n",
    "\n",
    "t es el tiempo.\n",
    "\n",
    "\n",
    "r es la tasa intrínseca de crecimiento de las bacterias.\n",
    "\n",
    "K es la capacidad de carga del entorno, es decir, el número máximo de bacterias que el entorno puede soportar sin que se produzca competencia por recursos."
   ]
  },
  {
   "cell_type": "markdown",
   "id": "61d36c4b",
   "metadata": {},
   "source": [
    "### Conclusiones.\n",
    "\n",
    "\n",
    "\n",
    "### Referencias.\n",
    "\n"
   ]
  },
  {
   "cell_type": "markdown",
   "id": "5b489f43",
   "metadata": {},
   "source": [
    "https://www.exactas.unlp.edu.ar/uploads/docs/jeanscen_gualano_2.pdf\n",
    "\n",
    "https://departamento.us.es/edan/php/asig/GRABIO/GBM/Tema5.pdf"
   ]
  },
  {
   "cell_type": "code",
   "execution_count": null,
   "id": "f3ca94a6",
   "metadata": {},
   "outputs": [],
   "source": []
  }
 ],
 "metadata": {
  "kernelspec": {
   "display_name": "Python 3 (ipykernel)",
   "language": "python",
   "name": "python3"
  },
  "language_info": {
   "codemirror_mode": {
    "name": "ipython",
    "version": 3
   },
   "file_extension": ".py",
   "mimetype": "text/x-python",
   "name": "python",
   "nbconvert_exporter": "python",
   "pygments_lexer": "ipython3",
   "version": "3.11.5"
  }
 },
 "nbformat": 4,
 "nbformat_minor": 5
}
